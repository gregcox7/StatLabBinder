{
 "cells": [
  {
   "cell_type": "markdown",
   "id": "11c972b1-2484-43b7-b9aa-5fc8b1420c5e",
   "metadata": {},
   "source": [
    "# Exploring data with R\n",
    "\n",
    "![An image of the RMS Titanic.](img/titanic.png)\n",
    "\n",
    "In this session, we will learn a bit about data and how to explore it using the statistical computing language \"R\".  The point is to learn a bit more about data and variables and to get a feel for the power of the tools we will be learning to use in the rest of the semester.\n",
    "\n",
    "As you follow along in this activity, you will be asked to run bits of code in this interactive notebook.  You will also be asked to create some code yourself and run it.  The code you create will be similar to code from previous parts of the activity.\n",
    "\n",
    "Chunks of code appear in special boxes.  The result of running the code will appear immediately below it.  For example, the following snippet of code adds two numbers.  Run it now to see the resulting output."
   ]
  },
  {
   "cell_type": "code",
   "execution_count": 8,
   "id": "f3cda9fe-9c98-4092-b47e-491e3bf37609",
   "metadata": {},
   "outputs": [
    {
     "data": {
      "text/html": [
       "5"
      ],
      "text/latex": [
       "5"
      ],
      "text/markdown": [
       "5"
      ],
      "text/plain": [
       "[1] 5"
      ]
     },
     "metadata": {},
     "output_type": "display_data"
    }
   ],
   "source": [
    "2 + 3"
   ]
  },
  {
   "cell_type": "markdown",
   "id": "9d1ff2d7-93b6-4502-92c6-eac427c1ea74",
   "metadata": {},
   "source": [
    "Another point of today's activity is to illustrate how even though statistics is about dealing with data, those data are *meaningful*.  They are not just numbers or names, they are a peek into the world.  They offer glimpses of someone's life, of the workings of some natural process, of some social structure, etc.  Any dataset will be limited in how wide of a glimpse it gives us, and the point of statistics is how to learn and make decisions based on that glimpse."
   ]
  },
  {
   "cell_type": "markdown",
   "id": "d06deddb-c17a-4e2d-8e09-4accf8ab9b32",
   "metadata": {},
   "source": [
    "## What is R?\n",
    "\n",
    "The R language represents the current state of the art for statistical computing in both academic and industrial research.  It is likely to remain relevant for many years to come because it is free and open-source, meaning both that it is widely accessible and that improvements and extensions are being made continuously by a large community of professionals and hobbyists.  In fact, many of the best features of R that we will be using are extensions made by people outside the \"core\" development team for R.  These extensions are called \"packages\", and they represent bundles of code that are useful for doing statistics.\n",
    "\n",
    "The online notebooks we will use for our labs are an \"interface\" to the R language.  You can also work in R using \"RStudio\", a program which is also free and can be installed on computers running any modern operating system (Windows, Mac, Linux, etc.).  R and RStudio are both already installed on the computers in our classroom, as well as those in other Technology-Enhanced Classrooms and the Library Public Computing Sites on campus.  You won't need to install R or RStudio on your own machine for the purpose of this class, but you will if you continue to engage in research or data science activities.\n",
    "\n",
    "## Required packages\n",
    "\n",
    "Once you have RStudio up and running, run the line of code below to load the package called `tidyverse` from R's library."
   ]
  },
  {
   "cell_type": "code",
   "execution_count": 9,
   "id": "16e1c894-5e0e-43a7-ae55-d084f84e2821",
   "metadata": {},
   "outputs": [],
   "source": [
    "library(tidyverse)"
   ]
  },
  {
   "cell_type": "markdown",
   "id": "08ca37a2-1787-449e-96b5-e4799ddccab4",
   "metadata": {},
   "source": [
    "You may notice some messages about \"conflicts\", but these are nothing we need to worry about, it is just R giving us more information than we need.\n",
    "\n",
    "## Meet your data\n",
    "\n",
    "The data we will be looking at are passenger records from the RMS *Titanic*, an oceanliner which famously sank on April 15, 1912.  Though the liner was not filled to capacity, lax safety precautions---including a failure to carry enough lifeboats---meant that many of her passengers died because they were unable to evacuate when the ship struck an iceberg.\n",
    "\n",
    "### Load the data\n",
    "\n",
    "Run the following line of code at the console to load our data into your RStudio \"environment\":"
   ]
  },
  {
   "cell_type": "code",
   "execution_count": 10,
   "id": "d20d4a28-4546-4504-80ef-668cc7a1b54b",
   "metadata": {},
   "outputs": [
    {
     "name": "stderr",
     "output_type": "stream",
     "text": [
      "\u001b[1mRows: \u001b[22m\u001b[34m1309\u001b[39m \u001b[1mColumns: \u001b[22m\u001b[34m11\u001b[39m\n",
      "\u001b[36m──\u001b[39m \u001b[1mColumn specification\u001b[22m \u001b[36m────────────────────────────────────────────────────────\u001b[39m\n",
      "\u001b[1mDelimiter:\u001b[22m \",\"\n",
      "\u001b[31mchr\u001b[39m (7): residence, sex, name, ticket, cabin, embarked, hometown\n",
      "\u001b[32mdbl\u001b[39m (3): class, age, fare\n",
      "\u001b[33mlgl\u001b[39m (1): survived\n",
      "\n",
      "\u001b[36mℹ\u001b[39m Use `spec()` to retrieve the full column specification for this data.\n",
      "\u001b[36mℹ\u001b[39m Specify the column types or set `show_col_types = FALSE` to quiet this message.\n"
     ]
    }
   ],
   "source": [
    "titanic <- read_csv(\"data/titanic.csv\")"
   ]
  },
  {
   "cell_type": "markdown",
   "id": "fd07e15d-c7e6-40ff-8a73-2f7a3a04d8aa",
   "metadata": {},
   "source": [
    "After running the code above, R will spit out some \"helpful\" information about the number of rows and columns in the data, as well as which columns it has identified.  This is not terribly helpful, but at least lets us know that things have worked as intended.  Now let's see what is actually *in* these data.\n",
    "\n",
    "### Check out the variables\n",
    "\n",
    "We can check out the first few rows of this dataset using the `head` command:"
   ]
  },
  {
   "cell_type": "code",
   "execution_count": 11,
   "id": "2db69fb7-8fa5-4f7e-9ee2-f954cfc6a11e",
   "metadata": {},
   "outputs": [
    {
     "data": {
      "text/html": [
       "<table class=\"dataframe\">\n",
       "<caption>A tibble: 6 × 11</caption>\n",
       "<thead>\n",
       "\t<tr><th scope=col>class</th><th scope=col>residence</th><th scope=col>sex</th><th scope=col>survived</th><th scope=col>name</th><th scope=col>age</th><th scope=col>ticket</th><th scope=col>fare</th><th scope=col>cabin</th><th scope=col>embarked</th><th scope=col>hometown</th></tr>\n",
       "\t<tr><th scope=col>&lt;dbl&gt;</th><th scope=col>&lt;chr&gt;</th><th scope=col>&lt;chr&gt;</th><th scope=col>&lt;lgl&gt;</th><th scope=col>&lt;chr&gt;</th><th scope=col>&lt;dbl&gt;</th><th scope=col>&lt;chr&gt;</th><th scope=col>&lt;dbl&gt;</th><th scope=col>&lt;chr&gt;</th><th scope=col>&lt;chr&gt;</th><th scope=col>&lt;chr&gt;</th></tr>\n",
       "</thead>\n",
       "<tbody>\n",
       "\t<tr><td>3</td><td>American</td><td>Male  </td><td>FALSE</td><td>Abbing, Mr. Anthony             </td><td>42</td><td>C.A. 5547</td><td> 7.55</td><td>NA   </td><td>Southampton</td><td>NA                    </td></tr>\n",
       "\t<tr><td>3</td><td>American</td><td>Male  </td><td>FALSE</td><td>Abbott, Master. Eugene Joseph   </td><td>13</td><td>C.A. 2673</td><td>20.25</td><td>NA   </td><td>Southampton</td><td>East Providence, RI   </td></tr>\n",
       "\t<tr><td>3</td><td>American</td><td>Male  </td><td>FALSE</td><td>Abbott, Mr. Rossmore Edward     </td><td>16</td><td>C.A. 2673</td><td>20.25</td><td>NA   </td><td>Southampton</td><td>East Providence, RI   </td></tr>\n",
       "\t<tr><td>3</td><td>American</td><td>Female</td><td> TRUE</td><td>Abbott, Mrs. Stanton (Rosa Hunt)</td><td>35</td><td>C.A. 2673</td><td>20.25</td><td>NA   </td><td>Southampton</td><td>East Providence, RI   </td></tr>\n",
       "\t<tr><td>3</td><td>Other   </td><td>Female</td><td> TRUE</td><td>Abelseth, Miss. Karen Marie     </td><td>16</td><td>348125   </td><td> 7.65</td><td>NA   </td><td>Southampton</td><td>Norway Los Angeles, CA</td></tr>\n",
       "\t<tr><td>3</td><td>American</td><td>Male  </td><td> TRUE</td><td>Abelseth, Mr. Olaus Jorgensen   </td><td>25</td><td>348122   </td><td> 7.65</td><td>F G63</td><td>Southampton</td><td>Perkins County, SD    </td></tr>\n",
       "</tbody>\n",
       "</table>\n"
      ],
      "text/latex": [
       "A tibble: 6 × 11\n",
       "\\begin{tabular}{lllllllllll}\n",
       " class & residence & sex & survived & name & age & ticket & fare & cabin & embarked & hometown\\\\\n",
       " <dbl> & <chr> & <chr> & <lgl> & <chr> & <dbl> & <chr> & <dbl> & <chr> & <chr> & <chr>\\\\\n",
       "\\hline\n",
       "\t 3 & American & Male   & FALSE & Abbing, Mr. Anthony              & 42 & C.A. 5547 &  7.55 & NA    & Southampton & NA                    \\\\\n",
       "\t 3 & American & Male   & FALSE & Abbott, Master. Eugene Joseph    & 13 & C.A. 2673 & 20.25 & NA    & Southampton & East Providence, RI   \\\\\n",
       "\t 3 & American & Male   & FALSE & Abbott, Mr. Rossmore Edward      & 16 & C.A. 2673 & 20.25 & NA    & Southampton & East Providence, RI   \\\\\n",
       "\t 3 & American & Female &  TRUE & Abbott, Mrs. Stanton (Rosa Hunt) & 35 & C.A. 2673 & 20.25 & NA    & Southampton & East Providence, RI   \\\\\n",
       "\t 3 & Other    & Female &  TRUE & Abelseth, Miss. Karen Marie      & 16 & 348125    &  7.65 & NA    & Southampton & Norway Los Angeles, CA\\\\\n",
       "\t 3 & American & Male   &  TRUE & Abelseth, Mr. Olaus Jorgensen    & 25 & 348122    &  7.65 & F G63 & Southampton & Perkins County, SD    \\\\\n",
       "\\end{tabular}\n"
      ],
      "text/markdown": [
       "\n",
       "A tibble: 6 × 11\n",
       "\n",
       "| class &lt;dbl&gt; | residence &lt;chr&gt; | sex &lt;chr&gt; | survived &lt;lgl&gt; | name &lt;chr&gt; | age &lt;dbl&gt; | ticket &lt;chr&gt; | fare &lt;dbl&gt; | cabin &lt;chr&gt; | embarked &lt;chr&gt; | hometown &lt;chr&gt; |\n",
       "|---|---|---|---|---|---|---|---|---|---|---|\n",
       "| 3 | American | Male   | FALSE | Abbing, Mr. Anthony              | 42 | C.A. 5547 |  7.55 | NA    | Southampton | NA                     |\n",
       "| 3 | American | Male   | FALSE | Abbott, Master. Eugene Joseph    | 13 | C.A. 2673 | 20.25 | NA    | Southampton | East Providence, RI    |\n",
       "| 3 | American | Male   | FALSE | Abbott, Mr. Rossmore Edward      | 16 | C.A. 2673 | 20.25 | NA    | Southampton | East Providence, RI    |\n",
       "| 3 | American | Female |  TRUE | Abbott, Mrs. Stanton (Rosa Hunt) | 35 | C.A. 2673 | 20.25 | NA    | Southampton | East Providence, RI    |\n",
       "| 3 | Other    | Female |  TRUE | Abelseth, Miss. Karen Marie      | 16 | 348125    |  7.65 | NA    | Southampton | Norway Los Angeles, CA |\n",
       "| 3 | American | Male   |  TRUE | Abelseth, Mr. Olaus Jorgensen    | 25 | 348122    |  7.65 | F G63 | Southampton | Perkins County, SD     |\n",
       "\n"
      ],
      "text/plain": [
       "  class residence sex    survived name                             age\n",
       "1 3     American  Male   FALSE    Abbing, Mr. Anthony              42 \n",
       "2 3     American  Male   FALSE    Abbott, Master. Eugene Joseph    13 \n",
       "3 3     American  Male   FALSE    Abbott, Mr. Rossmore Edward      16 \n",
       "4 3     American  Female  TRUE    Abbott, Mrs. Stanton (Rosa Hunt) 35 \n",
       "5 3     Other     Female  TRUE    Abelseth, Miss. Karen Marie      16 \n",
       "6 3     American  Male    TRUE    Abelseth, Mr. Olaus Jorgensen    25 \n",
       "  ticket    fare  cabin embarked    hometown              \n",
       "1 C.A. 5547  7.55 NA    Southampton NA                    \n",
       "2 C.A. 2673 20.25 NA    Southampton East Providence, RI   \n",
       "3 C.A. 2673 20.25 NA    Southampton East Providence, RI   \n",
       "4 C.A. 2673 20.25 NA    Southampton East Providence, RI   \n",
       "5 348125     7.65 NA    Southampton Norway Los Angeles, CA\n",
       "6 348122     7.65 F G63 Southampton Perkins County, SD    "
      ]
     },
     "metadata": {},
     "output_type": "display_data"
    }
   ],
   "source": [
    "head(titanic)"
   ]
  },
  {
   "cell_type": "markdown",
   "id": "3b01e1e8-5c53-43a4-9612-c577ed61b704",
   "metadata": {},
   "source": [
    "Notice that we put the *name of our dataset* into the parentheses after the `head` command.  We can think of the line `head(titanic)` as R's shorthand for the command \"let me see the 'head' of the dataset called 'titanic' that I loaded earlier.\"  Notice also that there are some *missing values* that we don't have for every passenger.  These are labeled `NA`.\n",
    "\n",
    "Now we have our first **Exercise**.  Type your answers into the Blackboard worksheet corresponding to this lab."
   ]
  },
  {
   "cell_type": "markdown",
   "id": "e24abc76-b98d-454f-a160-348ac707b87d",
   "metadata": {},
   "source": [
    "---\n",
    "\n",
    "**Exercise 1**\n",
    "\n",
    "Find an example of each of the following types of variable in the dataset.  Explain your reasoning for each choice.\n",
    "\n",
    "1. Numerical (either discrete or continuous)\n",
    "2. Ordinal categorical\n",
    "3. Nominal categorical\n",
    "\n",
    "---"
   ]
  },
  {
   "cell_type": "markdown",
   "id": "5994c9e0-52d0-4634-b26e-521d3f068ddf",
   "metadata": {},
   "source": [
    "## Answering questions with data\n",
    "\n",
    "Now that we've gotten acquainted with the kind of data we have, we can begin using it to answer some questions.  This will involve simplifying the data, turning it into a summary form that makes it easier to understand.  These summaries fall under the heading of \"descriptive statistics\", because they are meant to *describe* important aspects of the data.  The four types of summaries we will explore today are **frequency tables**, **proportions**, **bar charts**, and **histograms**.  The questions we will attempt to answer are all about *who* survived and *who* perished on the *Titanic*.\n",
    "\n",
    "### Frequency tables\n",
    "\n",
    "One way we could answer literally the question, \"who survived and who died on the *Titanic*?\" would be to read the names of each of the 1300 or so passengers in our dataset.  The problem is that this would not give us much of a sense of *why* particular people might have survived versus not.  Treating survival as a **response variable**, we would like to treat other variables in these data as **explanatory variables**.  This gives us a sense of the *types* of people who were more or less likely to have survived, and what this tells us about the *Titanic* disaster as a whole.\n",
    "\n",
    "To begin, the first thing we can do as construct a **frequency table** that simply counts the number of people who survived and the number of people who died.  This summary will give us a sense of the scale of the disaster.  Run the chunk of code below to do this and see the results."
   ]
  },
  {
   "cell_type": "code",
   "execution_count": 12,
   "id": "d1af001b-aef6-4139-a949-0e145c0217b4",
   "metadata": {},
   "outputs": [
    {
     "data": {
      "text/html": [
       "<table class=\"dataframe\">\n",
       "<caption>A tibble: 2 × 2</caption>\n",
       "<thead>\n",
       "\t<tr><th scope=col>survived</th><th scope=col>n</th></tr>\n",
       "\t<tr><th scope=col>&lt;lgl&gt;</th><th scope=col>&lt;int&gt;</th></tr>\n",
       "</thead>\n",
       "<tbody>\n",
       "\t<tr><td>FALSE</td><td>809</td></tr>\n",
       "\t<tr><td> TRUE</td><td>500</td></tr>\n",
       "</tbody>\n",
       "</table>\n"
      ],
      "text/latex": [
       "A tibble: 2 × 2\n",
       "\\begin{tabular}{ll}\n",
       " survived & n\\\\\n",
       " <lgl> & <int>\\\\\n",
       "\\hline\n",
       "\t FALSE & 809\\\\\n",
       "\t  TRUE & 500\\\\\n",
       "\\end{tabular}\n"
      ],
      "text/markdown": [
       "\n",
       "A tibble: 2 × 2\n",
       "\n",
       "| survived &lt;lgl&gt; | n &lt;int&gt; |\n",
       "|---|---|\n",
       "| FALSE | 809 |\n",
       "|  TRUE | 500 |\n",
       "\n"
      ],
      "text/plain": [
       "  survived n  \n",
       "1 FALSE    809\n",
       "2  TRUE    500"
      ]
     },
     "metadata": {},
     "output_type": "display_data"
    }
   ],
   "source": [
    "titanic %>%\n",
    "  group_by(survived) %>%\n",
    "  summarize(n = n())"
   ]
  },
  {
   "cell_type": "markdown",
   "id": "6c0d6ef2-f72f-4c6a-8659-afc45cd8b835",
   "metadata": {},
   "source": [
    "We got a table that counted the number of people who did and did not survive.  We went from 1300 or so rows with multiple variables each to just two numbers.  A pretty concise summary!  But how did we do it?  Let's break down that bit of code:\n",
    "\n",
    "* `titanic` is the name of our dataset.\n",
    "* `group_by(survived)` tells R to group the cases in that dataset by whether they survived (`TRUE`) or not (`FALSE`).\n",
    "* `summarize(n=n())` tells R to take our grouped cases and *summarize* them by counting the `n`umber of people in each group and labeling the resulting number \"`n`\".\n",
    "* The funky symbol `%>%` connects the three steps above and makes sure R does them in the order we want.  This symbol is called a \"pipe\".\n",
    "\n",
    "Let's try a few things to get a sense of why that code did what it did.  What happens if we change `n = n()` in the last line to `Number = n()`?"
   ]
  },
  {
   "cell_type": "code",
   "execution_count": 13,
   "id": "0e9ce342-2883-46c3-93e0-ed3c70a7f7cb",
   "metadata": {},
   "outputs": [
    {
     "data": {
      "text/html": [
       "<table class=\"dataframe\">\n",
       "<caption>A tibble: 2 × 2</caption>\n",
       "<thead>\n",
       "\t<tr><th scope=col>survived</th><th scope=col>Number</th></tr>\n",
       "\t<tr><th scope=col>&lt;lgl&gt;</th><th scope=col>&lt;int&gt;</th></tr>\n",
       "</thead>\n",
       "<tbody>\n",
       "\t<tr><td>FALSE</td><td>809</td></tr>\n",
       "\t<tr><td> TRUE</td><td>500</td></tr>\n",
       "</tbody>\n",
       "</table>\n"
      ],
      "text/latex": [
       "A tibble: 2 × 2\n",
       "\\begin{tabular}{ll}\n",
       " survived & Number\\\\\n",
       " <lgl> & <int>\\\\\n",
       "\\hline\n",
       "\t FALSE & 809\\\\\n",
       "\t  TRUE & 500\\\\\n",
       "\\end{tabular}\n"
      ],
      "text/markdown": [
       "\n",
       "A tibble: 2 × 2\n",
       "\n",
       "| survived &lt;lgl&gt; | Number &lt;int&gt; |\n",
       "|---|---|\n",
       "| FALSE | 809 |\n",
       "|  TRUE | 500 |\n",
       "\n"
      ],
      "text/plain": [
       "  survived Number\n",
       "1 FALSE    809   \n",
       "2  TRUE    500   "
      ]
     },
     "metadata": {},
     "output_type": "display_data"
    }
   ],
   "source": [
    "titanic %>%\n",
    "  group_by(survived) %>%\n",
    "  summarize(Number = n())"
   ]
  },
  {
   "cell_type": "markdown",
   "id": "1554f8d8-7327-4890-9044-56fa4bb667b6",
   "metadata": {},
   "source": [
    "Everything looks the same except that instead of the column being labeled \"n\", it is labeled \"Number\".  So the bit before the equals sign is how the frequency table will be labeled.\n",
    "\n",
    "Now let's try something that seems like a small change:  Instead of `n = n()` in the last line, let's write `n = m()`.  Only one letter, surely it can't be that big of a difference?"
   ]
  },
  {
   "cell_type": "code",
   "execution_count": 14,
   "id": "f02cbdd0-beb3-49c1-8c2a-30899b26f28c",
   "metadata": {},
   "outputs": [
    {
     "ename": "ERROR",
     "evalue": "\u001b[1m\u001b[33mError\u001b[39m in \u001b[1m\u001b[1m`summarize()`:\u001b[22m\n\u001b[1m\u001b[22m\u001b[33m!\u001b[39m Problem while computing `n = m()`.\n\u001b[36mℹ\u001b[39m The error occurred in group 1: survived = FALSE.\n\u001b[1mCaused by error in \u001b[1m\u001b[1m`m()`:\u001b[22m\n\u001b[33m!\u001b[39m could not find function \"m\"\n",
     "output_type": "error",
     "traceback": [
      "\u001b[1m\u001b[33mError\u001b[39m in \u001b[1m\u001b[1m`summarize()`:\u001b[22m\n\u001b[1m\u001b[22m\u001b[33m!\u001b[39m Problem while computing `n = m()`.\n\u001b[36mℹ\u001b[39m The error occurred in group 1: survived = FALSE.\n\u001b[1mCaused by error in \u001b[1m\u001b[1m`m()`:\u001b[22m\n\u001b[33m!\u001b[39m could not find function \"m\"\nTraceback:\n",
      "1. titanic %>% group_by(survived) %>% summarize(n = m())",
      "2. summarize(., n = m())",
      "3. summarise.grouped_df(., n = m())",
      "4. summarise_cols(.data, dplyr_quosures(...), caller_env = caller_env())",
      "5. withCallingHandlers({\n .     for (i in seq_along(dots)) {\n .         context_poke(\"column\", old_current_column)\n .         quosures <- expand_across(dots[[i]])\n .         quosures_results <- map(quosures, summarise_eval_one, \n .             mask = mask)\n .         for (k in seq_along(quosures)) {\n .             quo <- quosures[[k]]\n .             quo_data <- attr(quo, \"dplyr:::data\")\n .             quo_result <- quosures_results[[k]]\n .             if (is.null(quo_result)) {\n .                 next\n .             }\n .             types_k <- quo_result$types\n .             chunks_k <- quo_result$chunks\n .             results_k <- quo_result$results\n .             if (!quo_data$is_named && is.data.frame(types_k)) {\n .                 chunks_extracted <- .Call(dplyr_extract_chunks, \n .                   chunks_k, types_k)\n .                 types_k_names <- names(types_k)\n .                 for (j in seq_along(chunks_extracted)) {\n .                   mask$add_one(name = types_k_names[j], chunks = chunks_extracted[[j]], \n .                     result = results_k[[j]])\n .                 }\n .                 chunks <- append(chunks, chunks_extracted)\n .                 types <- append(types, as.list(types_k))\n .                 results <- append(results, results_k)\n .                 out_names <- c(out_names, types_k_names)\n .             }\n .             else {\n .                 name <- quo_data$name_auto\n .                 mask$add_one(name = name, chunks = chunks_k, \n .                   result = results_k)\n .                 chunks <- append(chunks, list(chunks_k))\n .                 types <- append(types, list(types_k))\n .                 results <- append(results, list(results_k))\n .                 out_names <- c(out_names, name)\n .             }\n .         }\n .     }\n .     recycle_info <- .Call(dplyr_summarise_recycle_chunks, chunks, \n .         mask$get_rows(), types, results)\n .     chunks <- recycle_info$chunks\n .     sizes <- recycle_info$sizes\n .     results <- recycle_info$results\n .     for (i in seq_along(chunks)) {\n .         result <- results[[i]] %||% vec_c(!!!chunks[[i]], .ptype = types[[i]])\n .         cols[[out_names[i]]] <- result\n .     }\n . }, error = function(e) {\n .     what <- \"computing\"\n .     index <- i\n .     if (inherits(e, \"dplyr:::summarise_incompatible_size\")) {\n .         index <- e$dplyr_error_data$index\n .         what <- \"recycling\"\n .     }\n .     local_error_context(dots = dots, .index = index, mask = mask)\n .     bullets <- c(cnd_bullet_header(what), summarise_bullets(e))\n .     abort(bullets, call = error_call, parent = skip_internal_condition(e))\n . })",
      "6. map(quosures, summarise_eval_one, mask = mask)",
      "7. lapply(.x, .f, ...)",
      "8. FUN(X[[i]], ...)",
      "9. mask$eval_all_summarise(quo)",
      "10. .handleSimpleError(function (e) \n  . {\n  .     what <- \"computing\"\n  .     index <- i\n  .     if (inherits(e, \"dplyr:::summarise_incompatible_size\")) {\n  .         index <- e$dplyr_error_data$index\n  .         what <- \"recycling\"\n  .     }\n  .     local_error_context(dots = dots, .index = index, mask = mask)\n  .     bullets <- c(cnd_bullet_header(what), summarise_bullets(e))\n  .     abort(bullets, call = error_call, parent = skip_internal_condition(e))\n  . }, \"could not find function \\\"m\\\"\", base::quote(m()))",
      "11. h(simpleError(msg, call))",
      "12. abort(bullets, call = error_call, parent = skip_internal_condition(e))",
      "13. signal_abort(cnd, .file)"
     ]
    }
   ],
   "source": [
    "titanic %>%\n",
    "  group_by(survived) %>%\n",
    "  summarize(n = m())"
   ]
  },
  {
   "cell_type": "markdown",
   "id": "01d9c5d5-3ccd-4a8a-b960-fcbf11fdba69",
   "metadata": {},
   "source": [
    "R doesn't like it at all!  It reports an error because it doesn't know what to do with `m()`.  That's because `n()` is a **function**, it is an instruction that tells R to count the `n`umber of something.  On the other hand, `m()` doesn't mean anything to R so it throws up its hands.\n",
    "\n",
    "We can also get counts based on other variables.  For example, let's ask how many passengers there were in each \"class\" by changing the grouping variable in our code:"
   ]
  },
  {
   "cell_type": "code",
   "execution_count": 15,
   "id": "7b9bdedd-cc4f-4636-87d3-b2616d2ffc9f",
   "metadata": {},
   "outputs": [
    {
     "data": {
      "text/html": [
       "<table class=\"dataframe\">\n",
       "<caption>A tibble: 3 × 2</caption>\n",
       "<thead>\n",
       "\t<tr><th scope=col>class</th><th scope=col>n</th></tr>\n",
       "\t<tr><th scope=col>&lt;dbl&gt;</th><th scope=col>&lt;int&gt;</th></tr>\n",
       "</thead>\n",
       "<tbody>\n",
       "\t<tr><td>1</td><td>323</td></tr>\n",
       "\t<tr><td>2</td><td>277</td></tr>\n",
       "\t<tr><td>3</td><td>709</td></tr>\n",
       "</tbody>\n",
       "</table>\n"
      ],
      "text/latex": [
       "A tibble: 3 × 2\n",
       "\\begin{tabular}{ll}\n",
       " class & n\\\\\n",
       " <dbl> & <int>\\\\\n",
       "\\hline\n",
       "\t 1 & 323\\\\\n",
       "\t 2 & 277\\\\\n",
       "\t 3 & 709\\\\\n",
       "\\end{tabular}\n"
      ],
      "text/markdown": [
       "\n",
       "A tibble: 3 × 2\n",
       "\n",
       "| class &lt;dbl&gt; | n &lt;int&gt; |\n",
       "|---|---|\n",
       "| 1 | 323 |\n",
       "| 2 | 277 |\n",
       "| 3 | 709 |\n",
       "\n"
      ],
      "text/plain": [
       "  class n  \n",
       "1 1     323\n",
       "2 2     277\n",
       "3 3     709"
      ]
     },
     "metadata": {},
     "output_type": "display_data"
    }
   ],
   "source": [
    "titanic %>%\n",
    "  group_by(class) %>%\n",
    "  summarize(n = n())"
   ]
  },
  {
   "cell_type": "markdown",
   "id": "21e7dafe-2b84-4817-877f-38d16cd119c9",
   "metadata": {},
   "source": [
    "Since we're on a roll, let's see if we can count the number of passengers with or without college degrees:"
   ]
  },
  {
   "cell_type": "code",
   "execution_count": 16,
   "id": "4d4c6f9a-ed08-460d-b4d6-e15d8d99b575",
   "metadata": {},
   "outputs": [
    {
     "ename": "ERROR",
     "evalue": "\u001b[1m\u001b[33mError\u001b[39m in \u001b[1m\u001b[1m`group_by()`:\u001b[22m\n\u001b[1m\u001b[22m\u001b[33m!\u001b[39m Must group by variables found in `.data`.\n\u001b[31m✖\u001b[39m Column `degree` is not found.\n",
     "output_type": "error",
     "traceback": [
      "\u001b[1m\u001b[33mError\u001b[39m in \u001b[1m\u001b[1m`group_by()`:\u001b[22m\n\u001b[1m\u001b[22m\u001b[33m!\u001b[39m Must group by variables found in `.data`.\n\u001b[31m✖\u001b[39m Column `degree` is not found.\nTraceback:\n",
      "1. titanic %>% group_by(degree) %>% summarize(n = n())",
      "2. summarize(., n = n())",
      "3. group_by(., degree)",
      "4. group_by.data.frame(., degree)",
      "5. group_by_prepare(.data, ..., .add = .add, caller_env = caller_env())",
      "6. abort(bullets, call = error_call)",
      "7. signal_abort(cnd, .file)"
     ]
    }
   ],
   "source": [
    "titanic %>%\n",
    "  group_by(degree) %>%\n",
    "  summarize(n = n())"
   ]
  },
  {
   "cell_type": "markdown",
   "id": "7e198b73-9cd1-4fa8-8c51-3661de5cce1e",
   "metadata": {},
   "source": [
    "Didn't work!  We got an error message.\n",
    "\n",
    "---\n",
    "\n",
    "**Exercise 2**\n",
    "\n",
    "Explain in your own words why trying to put `degree` in the `group_by` didn't work.\n",
    "\n",
    "---\n",
    "\n",
    "Finally, let's construct a frequency table using multiple variables.  This lets us answer more complex questions like, **how many British women were aboard the _Titanic_**?  That question involves two variables, `residence` (where people were from) and `sex` (whether classified as male or female).  We can put both of those variables in the `group_by` line to find our answer."
   ]
  },
  {
   "cell_type": "code",
   "execution_count": null,
   "id": "13bff499-1a31-448c-b5c3-c7a27e5eaad1",
   "metadata": {},
   "outputs": [],
   "source": [
    "titanic %>%\n",
    "  group_by(residence, sex) %>%\n",
    "  summarize(n = n())"
   ]
  },
  {
   "cell_type": "markdown",
   "id": "8f213a6d-2a6d-46c1-b92a-8ae03e339d83",
   "metadata": {},
   "source": [
    "---\n",
    "\n",
    "**Exercise 3**\n",
    "\n",
    "Make a frequency table that answers the question, \"how many second class passengers survived?\"  You will find it helpful to try filling in the blank below:"
   ]
  },
  {
   "cell_type": "code",
   "execution_count": null,
   "id": "6191652b-0614-47d7-811f-d1ebcdb9fa41",
   "metadata": {},
   "outputs": [],
   "source": [
    "titanic %>%\n",
    "  group_by(___) %>%\n",
    "  summarize(n = n())"
   ]
  },
  {
   "cell_type": "markdown",
   "id": "b8bcab9c-4dc0-47f8-b519-a012461e3cfa",
   "metadata": {},
   "source": [
    "What was the final code that you used?  And how many second class passengers survived?\n",
    "\n",
    "---\n",
    "\n",
    "### Proportions\n",
    "\n",
    "You may have heard that, when trying to evacuate the *Titanic*, there was a rule to put \"women and children first\" onto lifeboats.  This suggests a **hypothesis**, assuming this rule was actually followed: female passengers should have survived more often than male passengers.\n",
    "\n",
    "To see if the data are consistent with this hypothesis, we can begin by using code similar to what we've been using to count the number of male and female passengers who either did or did not survive."
   ]
  },
  {
   "cell_type": "code",
   "execution_count": null,
   "id": "67fcd375-99dc-4319-b2fa-27ac3d98ab7e",
   "metadata": {},
   "outputs": [],
   "source": [
    "titanic %>%\n",
    "  group_by(sex, survived) %>%\n",
    "  summarize(n = n())"
   ]
  },
  {
   "cell_type": "markdown",
   "id": "7c61ff8c-86a1-4a1c-a6d2-869729db8234",
   "metadata": {},
   "source": [
    "While this table contains all the information we need to test this hypothesis, it is hard to read because there were different numbers of male and female passengers.  What we want to know is whether a greater *proportion* of female passengers survived, compared to the *proportion* of male passengers who survived.\n",
    "\n",
    "We find proportions by taking a count and dividing by a sum of counts.  Specifically, if we have some group \"A\" and want to find the proportion of the elements in group \"A\" that have some characteristic \"B\", we find\n",
    "\n",
    "$$\n",
    "\\text{Proportion of A that are B} = \\frac{\\text{Number of A that are B}}{\\text{Total number of A's}}\n",
    "$$\n",
    "\n",
    "#### R is a fancy calculator\n",
    "\n",
    "Let's use the numbers in the frequency table above to find the proportion of male passengers who survived and the proportion of female passengers who survived.  This will illustrate how, although R is quite powerful, it is in many ways just a fancy calculator.  But a calculator is still handy!\n",
    "\n",
    "From the table we just made, we see that 339 female passengers survived.  There are $339 + 127$ total female passengers.  So we can use R to find the *proportion* of female passengers who survived using the line of code below:"
   ]
  },
  {
   "cell_type": "code",
   "execution_count": null,
   "id": "24c2ff66-e957-45ff-9595-6fc44cc1c595",
   "metadata": {},
   "outputs": [],
   "source": [
    "339 / (339 + 127)"
   ]
  },
  {
   "cell_type": "markdown",
   "id": "efc2e3b2-2bdc-4470-92b9-7918dde6a35a",
   "metadata": {},
   "source": [
    "Notice that `/` stands for \"division\" and we put $339 + 127$ in *parentheses* to tell R that that whole sum should be in the denominator.\n",
    "\n",
    "---\n",
    "\n",
    "**Exercise 4**\n",
    "\n",
    "Find the proportion of *male* passengers who survived.  Is this higher or lower than the proportion of female passengers who survived?  Is the result you found consistent with the \"women and children first\" policy?\n",
    "\n",
    "---\n",
    "\n",
    "#### Another way to get proportions\n",
    "\n",
    "One thing you will notice with R is that there are many ways to do the same thing.  Instead of calculating proportions by hand, we can add a line to the code we used to make the frequency table before to get R to give us the proportions of female and male passengers who did and did not survive:"
   ]
  },
  {
   "cell_type": "code",
   "execution_count": null,
   "id": "43c3ec1c-e14d-48b7-b3f5-151b4a8e3f1f",
   "metadata": {},
   "outputs": [],
   "source": [
    "titanic %>%\n",
    "  group_by(sex, survived) %>%\n",
    "  summarize(n = n()) %>%\n",
    "  mutate(p = n / sum(n))"
   ]
  },
  {
   "cell_type": "markdown",
   "id": "3691230f-60f8-4a42-bc85-455f76a8c46b",
   "metadata": {},
   "source": [
    "The new column `p` is a proportion and represents the proportion of people in each group (either male or female) who either did or did not survive.  Notice that the numbers in the `p` column for male and female survivors are the same as the ones we found in the preceding section.\n",
    "\n",
    "---\n",
    "\n",
    "**Exercise 5**\n",
    "\n",
    "Write and run code that gives us a table, like the one above, which shows the proportion of people in each Class (First, Second, and Third) who survived or died.  Again, you will find it helpful to start from code we already used and try filling in the blanks:"
   ]
  },
  {
   "cell_type": "code",
   "execution_count": null,
   "id": "4c1d3c4e-fc81-427e-a313-8b969c5e0ce7",
   "metadata": {},
   "outputs": [],
   "source": [
    "titanic %>%\n",
    "  group_by(___, survived) %>%\n",
    "  summarize(n = n()) %>%\n",
    "  mutate(p = n / sum(n))"
   ]
  },
  {
   "cell_type": "markdown",
   "id": "1fe63112-0a85-4ef9-8fa3-a8900232f120",
   "metadata": {},
   "source": [
    "What code did you use?  Which Class had the highest proportion of survivors?\n",
    "\n",
    "---\n",
    "\n",
    "### Bar charts\n",
    "\n",
    "If we are looking for patterns or trends in data, it is often easier to see them with a visualization rather than a table of numbers.  Bar charts make numerical relationships easy to see visually, so we don't need to compare a bunch of numbers.\n",
    "\n",
    "For example, above we made a table to count the number of passengers in each class.  A bar chart conveys the same information in terms of the height of the bars."
   ]
  },
  {
   "cell_type": "code",
   "execution_count": null,
   "id": "060bd5bd-36d0-4035-8382-37479f218f2c",
   "metadata": {},
   "outputs": [],
   "source": [
    "titanic %>%\n",
    "  ggplot(aes(x = class)) +\n",
    "  geom_bar()"
   ]
  },
  {
   "cell_type": "markdown",
   "id": "4c119d86-ee50-4c1a-b39b-7b7a7930693e",
   "metadata": {},
   "source": [
    "Pretty neat!  It is now easy to see how many more 3rd class passengers there were than 1st or 2nd, and that interestingly, there are fewer 2nd class than 1st class passengers.\n",
    "\n",
    "The code we used is similar to what we've been using, but differs in some important ways:\n",
    "* The first line is the same, telling R what dataset we are using (`titanic`).\n",
    "* The second line tells R that we want to make a `plot` and that we want to put the variable `class` along the horizontal axis of that plot (the `x` axis).  The \"gg\" in front of \"plot\" refers to the \"**g**rammar of **g**raphics\", which is the language R uses to describe plots.  In this language, different parts of a plot are called \"**aes**thetics\", which is why `x = class` falls inside a parenthetical labeled `aes`(thetic).\n",
    "* The final line just tells R that we want to make a `bar` chart.  In the grammar of graphics, different types of charts are called `geom`s.\n",
    "* Notice that the second 2 lines are connected by a `+` rather than the `%>%` symbol.  This is a historical accident, but the meaning of the two symbols is basically the same.  Both of them are telling R the order in which it should follow our instructions.\n",
    "\n",
    "If we put bar charts side-by-side, we can use them to compare groups.  In R, putting multiple graphs together is called **faceting**.  Each graph is a \"facet\".  We can tell R to make facets based on a specific variable by adding a line to our code, like so:"
   ]
  },
  {
   "cell_type": "code",
   "execution_count": null,
   "id": "3173652f-e2b5-4443-838c-254ff6e146fa",
   "metadata": {},
   "outputs": [],
   "source": [
    "titanic %>%\n",
    "  ggplot(aes(x = class)) +\n",
    "  geom_bar() +\n",
    "  facet_wrap(\"residence\")"
   ]
  },
  {
   "cell_type": "markdown",
   "id": "c3de1a94-7d1d-4a97-aec3-c010e6607f8a",
   "metadata": {},
   "source": [
    "The line at the end splits the plot into different \"facets\", one for each level of the `residence` variable.  Note that we have to put the \"faceting\" variable name in quotes (for some reason).  The result makes it easy to see that the distribution of passengers across classes is different depending on where they were from---Americans on the *Titanic* tended to be wealthier first class passengers, relative to passengers from Britain or elsewhere.\n",
    "\n",
    "---\n",
    "\n",
    "**Exercise 6**\n",
    "\n",
    "Make a bar chart that shows the number of people who either did or did not survive depending on their country of residence.  To do this, fill in the blanks in the code below so that each \"facet\" corresponds to country of residence and each \"facet\" has two bars in it, one bar for survivors and one bar for non-survivors."
   ]
  },
  {
   "cell_type": "code",
   "execution_count": null,
   "id": "7f19bee4-8591-4e14-8e59-0b807c66f45c",
   "metadata": {},
   "outputs": [],
   "source": [
    "titanic %>%\n",
    "  ggplot(aes(x = ___)) +\n",
    "  geom_bar() +\n",
    "  facet_wrap(\"___\")"
   ]
  },
  {
   "cell_type": "markdown",
   "id": "cbb842ec-8309-493f-8e02-11ef30819d34",
   "metadata": {},
   "source": [
    "What code did you use?  What is a possible reason why the relative number of survivors is different depending on where passengers were from?\n",
    "\n",
    "---\n",
    "\n",
    "### Histograms\n",
    "\n",
    "So far, we have been summarizing *categorical* variables.  There are also some numerical variables in our data, for example the age of each passenger as well as how much they paid for their tickets.  Let's try making a frequency table to figure out how many people of different ages sailed on the *Titanic*:"
   ]
  },
  {
   "cell_type": "code",
   "execution_count": null,
   "id": "39200769-ecf1-444d-8de0-d61a5890e390",
   "metadata": {},
   "outputs": [],
   "source": [
    "titanic %>%\n",
    "  group_by(age) %>%\n",
    "  summarize(n = n())"
   ]
  },
  {
   "cell_type": "markdown",
   "id": "1827db6a-279d-4443-a9fd-8cc119520b0e",
   "metadata": {},
   "source": [
    "Well that's not very helpful!  R didn't even bother to show us the whole thing.  Though we can see something interesting:  Age is measured in years, and for passengers at least one year old, their age is a whole number.  But there are fractions of years for passengers less than a year old---these ages were *measured* in months rather than years.\n",
    "\n",
    "The main point is that even though age can be measured in a more or less fine-grained manner, age is effectively *continuous*.  We don't want to know how many passengers were exactly 31.3491 years old, we want to get a general sense of the *distribution* of ages across passengers.\n",
    "\n",
    "We can construct a summary that conveys this information using a **histogram**.  A histogram is very similar to a bar chart; the difference is that bar charts are for categorical variables while histograms are for numerical variables.  The code below constructs a histogram to summarize passenger age:"
   ]
  },
  {
   "cell_type": "code",
   "execution_count": null,
   "id": "6f9f9f88-5e63-424e-b1fb-ede9bb963090",
   "metadata": {},
   "outputs": [],
   "source": [
    "titanic %>%\n",
    "  ggplot(aes(x = age)) +\n",
    "  geom_histogram()"
   ]
  },
  {
   "cell_type": "markdown",
   "id": "d1bcbd44-09fd-4edc-a501-839d1ea7bc5f",
   "metadata": {},
   "source": [
    "The resulting histogram shows a bunch of bars, the height of which indicate the number of passengers within a particular age range.  Notice that we got a couple messages from R in addition to our plot, one about \"non-finite values\" and another about \"picking a better value\".  When R says, \"non-finite values\", it is talking about people for whom their age was not recorded.  This is an unfortunate thing about real data: sometimes it has missing pieces.  This didn't stop R from making the plot we wanted using the non-missing data, but R wanted to warn us just in case.\n",
    "\n",
    "The message about \"picking a better value\" is important:  When you make a histogram, you are looking at how many things fall within a particular range of values, say, between ages 4 and 8.  How do you decide those ranges?  If you don't tell R how to do that, it will decide on its own to divide up the range of values into 30 \"bins\", each of which corresponds to a range of values that is the same width.  This is usually not what we want.\n",
    "\n",
    "Instead, we should decide how big or small we want those ranges to be.  The following code tells R to make our histogram using \"bins\" that are 2 years \"wide\" (0-1, 2-3, etc.):"
   ]
  },
  {
   "cell_type": "code",
   "execution_count": null,
   "id": "263d9a0a-d13b-4db8-9ccf-58606d8a3877",
   "metadata": {},
   "outputs": [],
   "source": [
    "titanic %>%\n",
    "  ggplot(aes(x = age)) +\n",
    "  geom_histogram(binwidth = 2)"
   ]
  },
  {
   "cell_type": "markdown",
   "id": "a913a39c-075a-4770-88fb-69dffc95d2ff",
   "metadata": {},
   "source": [
    "And just like we did with bar charts, we can split a histogram into different \"facets\".  The pair of histograms below shows the distribution of ages of passengers that either did or did not survive:"
   ]
  },
  {
   "cell_type": "code",
   "execution_count": null,
   "id": "c5867c07-951b-4197-87d8-5e3dc91d5c7f",
   "metadata": {},
   "outputs": [],
   "source": [
    "titanic %>%\n",
    "  ggplot(aes(x = age)) +\n",
    "  geom_histogram(binwidth = 2) +\n",
    "  facet_wrap(\"survived\")"
   ]
  },
  {
   "cell_type": "markdown",
   "id": "01e75896-3d89-4a81-9b01-4ef657751c95",
   "metadata": {},
   "source": [
    "---\n",
    "\n",
    "**Exercise 7**\n",
    "\n",
    "Try making several different histograms of passenger age split by survival, using different bin widths:"
   ]
  },
  {
   "cell_type": "code",
   "execution_count": null,
   "id": "8bfcce88-3a0d-4b21-8f85-4c7c803a033b",
   "metadata": {},
   "outputs": [],
   "source": [
    "titanic %>%\n",
    "  ggplot(aes(x = age)) +\n",
    "  geom_histogram(binwidth = ___) +\n",
    "  facet_wrap(\"survived\")"
   ]
  },
  {
   "cell_type": "markdown",
   "id": "5c2894fd-9f70-4301-abfd-0ec590cbf320",
   "metadata": {},
   "source": [
    "What bin width do you believe gives the best visual summary and why?  Describe whether the shapes of the histograms in each facet are consistent with the \"women and *children* first\" rule.\n",
    "\n",
    "---\n",
    "\n",
    "## Wrap-up\n",
    "\n",
    "Today we began our adventure by using RStudio to explore some data.  We saw how to look at data and how to summarize it in various helpful ways.  These were frequency tables, proportions, bar charts, and histograms.\n",
    "\n",
    "* Frequency tables count the number of times a particular value of a particular variable (or combination of values across multiple variables) occurs in our dataset.\n",
    "* We can use the counts in frequency tables to calculate proportions, which are better at conveying relative values.\n",
    "* Bar charts display counts of categorical variables in a visual form that makes it easier to compare them.\n",
    "* Histograms let us visually summarize counts of numerical variables by putting them in \"bins\", the width of which we need to decide."
   ]
  }
 ],
 "metadata": {
  "kernelspec": {
   "display_name": "R",
   "language": "R",
   "name": "ir"
  },
  "language_info": {
   "codemirror_mode": "r",
   "file_extension": ".r",
   "mimetype": "text/x-r-source",
   "name": "R",
   "pygments_lexer": "r",
   "version": "4.2.1"
  },
  "toc-autonumbering": true,
  "toc-showcode": false,
  "toc-showmarkdowntxt": false,
  "toc-showtags": false
 },
 "nbformat": 4,
 "nbformat_minor": 5
}
